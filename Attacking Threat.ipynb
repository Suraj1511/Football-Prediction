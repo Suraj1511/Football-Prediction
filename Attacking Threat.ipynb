{
 "cells": [
  {
   "cell_type": "code",
   "execution_count": 1,
   "metadata": {},
   "outputs": [],
   "source": [
    "import json\n",
    "import matplotlib.pyplot as plt\n",
    "import pandas as pd\n",
    "from mplsoccer.pitch import Pitch\n",
    "import requests\n",
    "from bs4 import BeautifulSoup"
   ]
  },
  {
   "cell_type": "code",
   "execution_count": 11,
   "metadata": {},
   "outputs": [],
   "source": [
    "#PREPARING THE DATA\n",
    "\n",
    "#SELECT LINK OF RESP TEAM FROM UNDERSTAT\n",
    "url = 'https://understat.com/team/Manchester_United/2020'\n",
    "\n",
    "res = requests.get(url) \n",
    "soup = BeautifulSoup(res.content, \"lxml\") \n",
    "scripts = soup.find_all('script')\n",
    "\n",
    "strings = scripts[1].string\n",
    "\n",
    "string_with_json_obj = '' \n",
    "\n",
    "ind_start = strings.index(\"('\")+2 \n",
    "ind_end = strings.index(\"')\") \n",
    "json_data = strings[ind_start:ind_end] \n",
    "json_data = json_data.encode('utf8').decode('unicode_escape')\n",
    "\n",
    "data = json.loads(json_data)\n",
    "\n",
    "r_new = 1000\n",
    "elo_list_mufc = []\n",
    "\n",
    "for i in data:\n",
    "    elo_list_mufc.append(r_new)\n",
    "    \n",
    "    g = list(i['goals'].values())\n",
    "    xG = list(i['xG'].values())\n",
    "\n",
    "    if i['side'] == 'h':\n",
    "        goals = float(g[0])\n",
    "        goals_con = float(g[1])\n",
    "        ex_g = float(xG[0])\n",
    "        ex_ga = float(xG[1])\n",
    "    else:\n",
    "        goals = float(g[1])\n",
    "        goals_con = float(g[0])\n",
    "        ex_g = float(xG[1])\n",
    "        ex_ga = float(xG[0])   \n",
    "\n",
    "    #print(goals, goals_con, ex_g, ex_ga)\n",
    "\n",
    "    r_new = round(r_new + 40*((goals-ex_g) - (goals_con-ex_ga)), 2)"
   ]
  },
  {
   "cell_type": "code",
   "execution_count": 12,
   "metadata": {},
   "outputs": [],
   "source": [
    "url = 'https://understat.com/team/Manchester_City/2020'\n",
    "\n",
    "res = requests.get(url) \n",
    "soup = BeautifulSoup(res.content, \"lxml\") \n",
    "scripts = soup.find_all('script')\n",
    "\n",
    "strings = scripts[1].string\n",
    "\n",
    "string_with_json_obj = '' \n",
    "\n",
    "ind_start = strings.index(\"('\")+2 \n",
    "ind_end = strings.index(\"')\") \n",
    "json_data = strings[ind_start:ind_end] \n",
    "json_data = json_data.encode('utf8').decode('unicode_escape')\n",
    "\n",
    "data = json.loads(json_data)\n",
    "\n",
    "r_new = 1000\n",
    "elo_list_mcfc = []\n",
    "\n",
    "for i in data:\n",
    "    elo_list_mcfc.append(r_new)\n",
    "    \n",
    "    g = list(i['goals'].values())\n",
    "    xG = list(i['xG'].values())\n",
    "\n",
    "    if i['side'] == 'h':\n",
    "        goals = float(g[0])\n",
    "        goals_con = float(g[1])\n",
    "        ex_g = float(xG[0])\n",
    "        ex_ga = float(xG[1])\n",
    "    else:\n",
    "        goals = float(g[1])\n",
    "        goals_con = float(g[0])\n",
    "        ex_g = float(xG[1])\n",
    "        ex_ga = float(xG[0])   \n",
    "\n",
    "    #print(goals, goals_con, ex_g, ex_ga)\n",
    "\n",
    "    r_new = round(r_new + 40*((goals-ex_g)-(goals_con-ex_ga)), 2)\n",
    "    #print(r_new)"
   ]
  },
  {
   "cell_type": "code",
   "execution_count": 13,
   "metadata": {},
   "outputs": [
    {
     "name": "stderr",
     "output_type": "stream",
     "text": [
      "C:\\Users\\91887\\Anaconda3\\lib\\site-packages\\ipykernel_launcher.py:9: MatplotlibDeprecationWarning: Adding an axes using the same arguments as a previous axes currently reuses the earlier instance.  In a future version, a new instance will always be created and returned.  Meanwhile, this warning can be suppressed, and the future behavior ensured, by passing a unique label to each axes instance.\n",
      "  if __name__ == '__main__':\n"
     ]
    },
    {
     "data": {
      "text/plain": [
       "Text(0.5, 0, 'Matchday')"
      ]
     },
     "execution_count": 13,
     "metadata": {},
     "output_type": "execute_result"
    },
    {
     "data": {
      "text/plain": [
       "<Figure size 432x288 with 0 Axes>"
      ]
     },
     "metadata": {},
     "output_type": "display_data"
    },
    {
     "data": {
      "image/png": "[encoded data removed]",
      "text/plain": [
       "<Figure size 504x360 with 1 Axes>"
      ]
     },
     "metadata": {
      "needs_background": "light"
     },
     "output_type": "display_data"
    }
   ],
   "source": [
    "plt.figure(facecolor='white')\n",
    "\n",
    "plt.figure(figsize=[7,5])\n",
    "plt.grid(True, color='black', alpha=0.2)\n",
    "plt.plot(elo_list_mufc,label='Man United ELO Rating', color='red')\n",
    "plt.plot(elo_list_mcfc,label='Man City ELO Rating', color='#ADD8E6')\n",
    "plt.legend(loc=2)\n",
    "\n",
    "ax = plt.axes()\n",
    "ax.set_facecolor(\"white\")\n",
    "\n",
    "#plt.title('Atletico Madrid', color='black', fontweight='bold')\n",
    "plt.xlabel('Matchday', color='black', fontweight='bold', fontsize=20)"
   ]
  },
  {
   "cell_type": "code",
   "execution_count": null,
   "metadata": {},
   "outputs": [],
   "source": [
    "print(elo_list_mcfc[-1], elo_list_mufc[-1])"
   ]
  },
  {
   "cell_type": "code",
   "execution_count": null,
   "metadata": {},
   "outputs": [],
   "source": [
    "elo_list_mufc"
   ]
  },
  {
   "cell_type": "code",
   "execution_count": null,
   "metadata": {},
   "outputs": [],
   "source": [
    "g = list(gw1['goals'].values())\n",
    "xG = list(gw1['xG'].values())\n",
    "\n",
    "r_new = 1000\n",
    "\n",
    "if gw1['side'] == 'h':\n",
    "    goals = float(g[0])\n",
    "    goals_con = float(g[1])\n",
    "    ex_g = float(xG[0])\n",
    "    ex_ga = float(xG[1])\n",
    "else:\n",
    "    goals = float(g[1])\n",
    "    goals_con = float(g[0])\n",
    "    ex_g = float(xG[1])\n",
    "    ex_ga = float(xG[0])   \n",
    "    \n",
    "print(goals, goals_con, ex_g, ex_ga)\n",
    "\n",
    "r_new = round(r_new + 40*((goals - goals_con) - (ex_g - ex_ga)), 2)\n",
    "\n",
    "print(r_new)"
   ]
  },
  {
   "cell_type": "code",
   "execution_count": null,
   "metadata": {},
   "outputs": [],
   "source": [
    "'''\n",
    "(1-3) - (1.09 - 1.91)\n",
    "(-2) - (-0.82)\n",
    "-2 + 0.82\n",
    "-1.18\n",
    "'''"
   ]
  }
 ],
 "metadata": {
  "kernelspec": {
   "display_name": "Python 3",
   "language": "python",
   "name": "python3"
  },
  "language_info": {
   "codemirror_mode": {
    "name": "ipython",
    "version": 3
   },
   "file_extension": ".py",
   "mimetype": "text/x-python",
   "name": "python",
   "nbconvert_exporter": "python",
   "pygments_lexer": "ipython3",
   "version": "3.7.4"
  }
 },
 "nbformat": 4,
 "nbformat_minor": 2
}
